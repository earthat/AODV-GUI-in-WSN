{
 "cells": [
  {
   "cell_type": "code",
   "execution_count": 0,
   "metadata": {
    "id": "rZsoJxA8rCOn",
    "colab_type": "code",
    "colab": {}
   },
   "outputs": [],
   "source": [
    "!apt-get -qq install -y graphviz && pip install -q pydot"
   ]
  },
  {
   "cell_type": "code",
   "execution_count": 0,
   "metadata": {
    "id": "FuhoE9TcfOG8",
    "colab_type": "code",
    "outputId": "2420e474-8e48-4a77-ca9e-93583021607e",
    "colab": {
     "base_uri": "https://localhost:8080/",
     "height": 126.0
    }
   },
   "outputs": [
    {
     "name": "stdout",
     "output_type": "stream",
     "text": [
      "Go to this URL in a browser: https://accounts.google.com/o/oauth2/auth?client_id=947318989803-6bn6qk8qdgf4n4g3pfee6491hc0brc4i.apps.googleusercontent.com&redirect_uri=urn%3Aietf%3Awg%3Aoauth%3A2.0%3Aoob&scope=email%20https%3A%2F%2Fwww.googleapis.com%2Fauth%2Fdocs.test%20https%3A%2F%2Fwww.googleapis.com%2Fauth%2Fdrive%20https%3A%2F%2Fwww.googleapis.com%2Fauth%2Fdrive.photos.readonly%20https%3A%2F%2Fwww.googleapis.com%2Fauth%2Fpeopleapi.readonly&response_type=code\n",
      "\n",
      "Enter your authorization code:\n",
      "··········\n",
      "Mounted at /content/drive\n"
     ]
    }
   ],
   "source": [
    "from google.colab import drive\n",
    "drive.mount(\"/content/drive\", force_remount=True)"
   ]
  },
  {
   "cell_type": "code",
   "execution_count": 0,
   "metadata": {
    "id": "6-BTBiWpfXuS",
    "colab_type": "code",
    "outputId": "c0ef8afc-5777-4817-ba64-b405d80d392d",
    "colab": {
     "base_uri": "https://localhost:8080/",
     "height": 618.0
    }
   },
   "outputs": [
    {
     "name": "stderr",
     "output_type": "stream",
     "text": [
      "/usr/local/lib/python3.6/dist-packages/ipykernel_launcher.py:9: FutureWarning: read_table is deprecated, use read_csv instead, passing sep='\\t'.\n",
      "  if __name__ == '__main__':\n"
     ]
    },
    {
     "data": {
      "image/png": "[encoded data removed]",
      "text/plain": [
       "<Figure size 720x720 with 2 Axes>"
      ]
     },
     "metadata": {
      "tags": []
     },
     "output_type": "display_data"
    }
   ],
   "source": [
    "from math import sqrt\n",
    "import pandas as pd\n",
    "from numpy import concatenate\n",
    "from matplotlib import pyplot as plt\n",
    "import seaborn as sns\n",
    "\n",
    "\n",
    "\n",
    "df = pd.read_table('/content/drive/My Drive/autos.txt')\n",
    "#newdf=df\n",
    "df.drop(['category'], axis = 1,inplace = True)\n",
    "#====== plot the correlation matrix heat plot\n",
    "corrmat=df.corr()\n",
    "corrmat['daily_watch'].sort_values(ascending=False)\n",
    "f, ax = plt.subplots(1,figsize=(10, 10))\n",
    "sns.heatmap(corrmat, vmax=1, square=True)\n",
    "plt.title('Heat map for Data Attributes correlation')\n",
    "plt.show()"
   ]
  },
  {
   "cell_type": "code",
   "execution_count": 0,
   "metadata": {
    "id": "Jo4oJc8lDPoA",
    "colab_type": "code",
    "outputId": "6c653b00-fc26-48fd-8066-e727aec5fa32",
    "colab": {
     "base_uri": "https://localhost:8080/",
     "height": 35.0
    }
   },
   "outputs": [
    {
     "name": "stdout",
     "output_type": "stream",
     "text": [
      ">>> Start to load data: autos.txt...\n"
     ]
    }
   ],
   "source": [
    "import os, time, datetime\n",
    "import numpy as np\n",
    "from collections import defaultdict\n",
    "from scipy.stats import gaussian_kde\n",
    "import matplotlib as mpl\n",
    "from matplotlib import gridspec\n",
    "import matplotlib.pyplot as plt\n",
    "from matplotlib.ticker import FuncFormatter\n",
    "\n",
    "\n",
    "def exponent(x, pos):\n",
    "    \"\"\" The two args are the value and tick position. \"\"\"\n",
    "    return '%1.0f' % (10 ** x)\n",
    "\n",
    "\n",
    "def get_duration_wp_from_file(filepath, duration_wp_tuple, duration_stats_dict):\n",
    "    with open(filepath, 'r') as fin:\n",
    "        fin.readline()\n",
    "        for line in fin:\n",
    "            _, _, duration, dump = line.rstrip().split('\\t', 3)\n",
    "            _, _, _, _, _, view30, _, wp30, _ = dump.split('\\t', 8)\n",
    "            duration = int(duration)\n",
    "            wp30 = float(wp30)\n",
    "            if int(view30) >= 100:\n",
    "                duration_wp_tuple.append((duration, wp30))\n",
    "                duration_stats_dict[duration] += 1\n",
    "\n",
    "\n",
    "def remove_bad_bins(x_axis, bin_matrix, min_bin=25):\n",
    "    x_axis = x_axis[:len(bin_matrix)]\n",
    "    bad_bin_idx = []\n",
    "    for idx, bin in enumerate(bin_matrix):\n",
    "        if len(bin) < min_bin:\n",
    "            bad_bin_idx.append(idx)\n",
    "    for idx in bad_bin_idx[::-1]:\n",
    "        x_axis.pop(idx)\n",
    "        bin_matrix.pop(idx)\n",
    "    return x_axis, bin_matrix\n",
    "\n",
    "\n",
    "def loading_data(input_loc, bin_number, min_bin):\n",
    "    # setting parameters\n",
    "    duration_wp_tuple = []\n",
    "    duration_stats_dict = defaultdict(int)\n",
    "\n",
    "    # load dataset\n",
    "    if os.path.isdir(input_loc):\n",
    "        for subdir, _, files in os.walk(input_loc):\n",
    "            for f in files:\n",
    "                # get tweeted music videos\n",
    "                if f.startswith('autos'):\n",
    "                    print('>>> Start to load data: {0}...'.format(f))\n",
    "                    get_duration_wp_from_file(os.path.join(subdir, f), duration_wp_tuple, duration_stats_dict)\n",
    "    else:\n",
    "        print('>>> Start to load data: {0}...'.format(input_loc))\n",
    "        get_duration_wp_from_file(input_loc, duration_wp_tuple, duration_stats_dict)\n",
    "\n",
    "    # sort by duration in ascent order\n",
    "    sorted_duration_wp_tuple = sorted(duration_wp_tuple, key=lambda x: x[0])\n",
    "\n",
    "    # get duration split point\n",
    "    x_axis = list(np.linspace(xmin, xmax, bin_number))\n",
    "\n",
    "    # put videos in correct bins\n",
    "    bin_matrix = []\n",
    "    bin_list = []\n",
    "    bin_idx = 0\n",
    "    # put dur-wp tuple in the correct bin\n",
    "    for item in sorted_duration_wp_tuple:\n",
    "        if np.log10(item[0]) > x_axis[bin_idx]:\n",
    "            bin_matrix.append(bin_list)\n",
    "            bin_idx += 1\n",
    "            bin_list = []\n",
    "        bin_list.append(item[1])\n",
    "    if len(bin_list) > 0:\n",
    "        bin_matrix.append(bin_list)\n",
    "    bin_matrix = [np.array(x) for x in bin_matrix]\n",
    "\n",
    "    x_axis, bin_matrix = remove_bad_bins(x_axis, bin_matrix, min_bin)\n",
    "\n",
    "    # sanity check\n",
    "    to_check = False\n",
    "    if to_check:\n",
    "        print('videos in each bin')\n",
    "        for i in range(len(x_axis)):\n",
    "            print('duration split point: {0}; number of videos in bin: {1}'.format(x_axis[i], len(bin_matrix[i])))\n",
    "        print('num of bins: {0}'.format(len(x_axis)))\n",
    "    return x_axis, bin_matrix, duration_wp_tuple\n",
    "  \n",
    "  \n",
    "\n",
    "xmin, xmax = 1, 5\n",
    "ymin, ymax = 0, 1\n",
    "cornflower_blue = '#6495ed'\n",
    "tomato = '#ff6347'  \n",
    "input_loc = '/content/drive/My Drive'\n",
    "tweeted_x_axis, tweeted_bin_matrix, tweeted_tuple = loading_data(input_loc, bin_number=150, min_bin=50)\n",
    "\n",
    "tweeted_df_x = [np.log10(x[0]) for x in tweeted_tuple]\n",
    "tweeted_df_y = [x[1] for x in tweeted_tuple]\n",
    "# KDE for top marginal\n",
    "tweeted_kde_x = gaussian_kde(tweeted_df_x)\n",
    "# KDE for right marginal\n",
    "tweeted_kde_y = gaussian_kde(tweeted_df_y)  \n",
    "x = np.linspace(xmin, xmax, 100)\n",
    "y = np.linspace(ymin, ymax, 100)\n",
    "\n"
   ]
  },
  {
   "cell_type": "code",
   "execution_count": 0,
   "metadata": {
    "id": "TAWJxfKI4PRb",
    "colab_type": "code",
    "outputId": "872c50b1-a303-47fe-ceb5-1900cb3a91bc",
    "colab": {
     "base_uri": "https://localhost:8080/",
     "height": 35.0
    }
   },
   "outputs": [
    {
     "data": {
      "text/plain": [
       "array([0.01853024])"
      ]
     },
     "execution_count": 8,
     "metadata": {
      "tags": []
     },
     "output_type": "execute_result"
    }
   ],
   "source": [
    "tweeted_kde_x(1)"
   ]
  },
  {
   "cell_type": "code",
   "execution_count": 0,
   "metadata": {
    "id": "x-aorC7Ty0A-",
    "colab_type": "code",
    "outputId": "139248ba-327d-4eb0-d5ed-995be48ab894",
    "colab": {
     "base_uri": "https://localhost:8080/",
     "height": 483.0
    }
   },
   "outputs": [
    {
     "data": {
      "image/png": "[encoded data removed]",
      "text/plain": [
       "<Figure size 648x684 with 1 Axes>"
      ]
     },
     "metadata": {
      "tags": []
     },
     "output_type": "display_data"
    }
   ],
   "source": [
    "gs = gridspec.GridSpec(2, 2, width_ratios=[8, 1], height_ratios=[1, 8])\n",
    "fig = plt.figure(figsize=(9, 9.5))\n",
    "ax1 = plt.subplot(gs[1, 0])\n",
    "plt.ylabel('Watch Percentage')\n",
    "plt.xlabel('Video Duration')\n",
    "for t in np.arange(5, 50, 5):\n",
    "  ax1.fill_between(tweeted_x_axis, [np.percentile(x, 50-t) for x in tweeted_bin_matrix],\n",
    "                   [np.percentile(x, 55-t) for x in tweeted_bin_matrix], facecolor=tomato, alpha=(100-2*t)/100, lw=0, zorder=1)\n",
    "  ax1.fill_between(tweeted_x_axis, [np.percentile(x, 45+t) for x in tweeted_bin_matrix],\n",
    "                   [np.percentile(x, 50+t) for x in tweeted_bin_matrix], facecolor=tomato, alpha=(100-2*t)/100, lw=0, zorder=1)\n",
    "  for t in [10, 30, 70, 90]:\n",
    "    ax1.plot(tweeted_x_axis, [np.percentile(x, t) for x in tweeted_bin_matrix], color=cornflower_blue , alpha=1, zorder=5)\n",
    "    ax1.plot(tweeted_x_axis, [np.percentile(x, 50) for x in tweeted_bin_matrix], color='k', alpha=0.5, zorder=20, lw=2)\n",
    "\n"
   ]
  },
  {
   "cell_type": "code",
   "execution_count": 0,
   "metadata": {
    "id": "3Qi_m3CETk8Z",
    "colab_type": "code",
    "outputId": "0926b7a9-61ac-444e-d965-096116430572",
    "colab": {
     "base_uri": "https://localhost:8080/",
     "height": 299.0
    }
   },
   "outputs": [
    {
     "data": {
      "text/plain": [
       "Text(0.5, 1.0, 'Inconsistency in Daily views and daily watch')"
      ]
     },
     "execution_count": 10,
     "metadata": {
      "tags": []
     },
     "output_type": "execute_result"
    },
    {
     "data": {
      "image/png": "[encoded data removed]",
      "text/plain": [
       "<Figure size 432x288 with 1 Axes>"
      ]
     },
     "metadata": {
      "tags": []
     },
     "output_type": "display_data"
    }
   ],
   "source": [
    "#discrepancy between views and watch counts\n",
    "sorteddf=df.sort_values(by='daily_view', ascending=False)\n",
    "top_dialyview=sorteddf['daily_view'].values[1:100]\n",
    "top_dialywatch=sorteddf['daily_watch'].values[1:100]\n",
    "plt.plot(top_dialyview,label='Daily Views')\n",
    "plt.plot(top_dialywatch,label='Daily Watch')\n",
    "plt.legend()\n",
    "plt.title('Inconsistency in Daily views and daily watch')\n"
   ]
  },
  {
   "cell_type": "code",
   "execution_count": 0,
   "metadata": {
    "id": "aqj0B_POf3Xz",
    "colab_type": "code",
    "outputId": "fc9a7b88-af78-4a5e-b578-70852c858237",
    "colab": {
     "base_uri": "https://localhost:8080/",
     "height": 52.0
    }
   },
   "outputs": [
    {
     "name": "stderr",
     "output_type": "stream",
     "text": [
      "/usr/local/lib/python3.6/dist-packages/ipykernel_launcher.py:39: FutureWarning: read_table is deprecated, use read_csv instead, passing sep='\\t'.\n"
     ]
    },
    {
     "name": "stdout",
     "output_type": "stream",
     "text": [
      "(8130877, 18)\n"
     ]
    }
   ],
   "source": [
    "from math import sqrt\n",
    "import pandas as pd\n",
    "from numpy import concatenate\n",
    "from matplotlib import pyplot\n",
    "from pandas import DataFrame\n",
    "from pandas import concat\n",
    "#plaidml.keras.install_backend()\n",
    "from sklearn.preprocessing import MinMaxScaler\n",
    "from sklearn.metrics import mean_squared_error\n",
    "from sklearn.model_selection import train_test_split\n",
    "\n",
    "\n",
    "#---------------- convert series to supervised learning\n",
    "def series_to_supervised(data, n_in=1, n_out=1, dropnan=True):\n",
    "    n_vars = 1 if type(data) is list else data.shape[1]\n",
    "    df = DataFrame(data)\n",
    "    cols, names = list(), list()\n",
    "    # input sequence (t-n, ... t-1)\n",
    "    for i in range(n_in, 0, -1):\n",
    "        cols.append(df.shift(i))\n",
    "        names += [('var%d(t-%d)' % (j+1, i)) for j in range(n_vars)]\n",
    "    # forecast sequence (t, t+1, ... t+n)\n",
    "    for i in range(0, n_out):\n",
    "        cols.append(df.shift(-i))\n",
    "        if i == 0:\n",
    "            names += [('var%d(t)' % (j+1)) for j in range(n_vars)]\n",
    "        else:\n",
    "            names += [('var%d(t+%d)' % (j+1, i)) for j in range(n_vars)]\n",
    "    # put it all together\n",
    "    agg = concat(cols, axis=1)\n",
    "    agg.columns = names\n",
    "    # drop rows with NaN values\n",
    "    if dropnan:\n",
    "        agg.dropna(inplace=True)\n",
    "    return agg\n",
    "  \n",
    "  \n",
    "dataset = pd.read_table('/content/drive/My Drive/autos.txt', delim_whitespace=True,\n",
    "                            header=0, index_col=1)\n",
    "values = dataset[['duration', 'definition', 'category',\n",
    "                      'view30', 'watch30', 'wp30', 'days', 'daily_view',\n",
    "                      'daily_watch']].values\n",
    "# ensure all data is float\n",
    "values = values.astype('float32')\n",
    "# normalize features\n",
    "scaler = MinMaxScaler(feature_range=(0, 1))\n",
    "scaled = scaler.fit_transform(values)\n",
    "# specify the number of lag hours\n",
    "n_hours = 1\n",
    "n_features = 9\n",
    "# frame as supervised learning\n",
    "reframed = series_to_supervised(scaled, n_hours, 1)\n",
    "print(reframed.shape)\n"
   ]
  },
  {
   "cell_type": "code",
   "execution_count": 0,
   "metadata": {
    "id": "QkvljbKxkbPX",
    "colab_type": "code",
    "outputId": "0e8c7b93-a32e-47c5-9360-266f1522f728",
    "colab": {
     "base_uri": "https://localhost:8080/",
     "height": 70.0
    }
   },
   "outputs": [
    {
     "name": "stdout",
     "output_type": "stream",
     "text": [
      "(406543, 9)\n",
      "(325234, 9) 325234 (325234,)\n",
      "(325234, 1, 9) (325234,) (81309, 1, 9) (81309,)\n"
     ]
    }
   ],
   "source": [
    "# split into train and test sets\n",
    "values = reframed.values\n",
    "n_obs = n_hours * n_features\n",
    "temp_train, temp_test, temp_trainlabel, temp_testlabel = train_test_split(values[:, :n_obs], values[:, n_features],test_size=0.95)\n",
    "print(temp_train.shape)\n",
    "train_X, test_X, train_y, test_y = train_test_split(temp_train, temp_trainlabel, test_size=0.2)\n",
    "print(train_X.shape, len(train_X), train_y.shape)\n",
    "\n",
    "# reshape input to be 3D [samples, timesteps, features]\n",
    "train_X = train_X.reshape((train_X.shape[0], n_hours, n_features))\n",
    "test_X = test_X.reshape((test_X.shape[0], n_hours, n_features))\n",
    "print(train_X.shape, train_y.shape, test_X.shape, test_y.shape)"
   ]
  },
  {
   "cell_type": "code",
   "execution_count": 0,
   "metadata": {
    "id": "YTwLewB-7_uj",
    "colab_type": "code",
    "outputId": "d4a2faf6-f524-4469-ddef-52c7edf58e87",
    "colab": {
     "base_uri": "https://localhost:8080/",
     "height": 517.0
    }
   },
   "outputs": [
    {
     "name": "stderr",
     "output_type": "stream",
     "text": [
      "WARNING: Logging before flag parsing goes to stderr.\n",
      "W0812 10:27:08.781236 140368448980864 deprecation_wrapper.py:119] From /usr/local/lib/python3.6/dist-packages/keras/backend/tensorflow_backend.py:74: The name tf.get_default_graph is deprecated. Please use tf.compat.v1.get_default_graph instead.\n",
      "\n",
      "W0812 10:27:08.828489 140368448980864 deprecation_wrapper.py:119] From /usr/local/lib/python3.6/dist-packages/keras/backend/tensorflow_backend.py:517: The name tf.placeholder is deprecated. Please use tf.compat.v1.placeholder instead.\n",
      "\n",
      "W0812 10:27:08.839145 140368448980864 deprecation_wrapper.py:119] From /usr/local/lib/python3.6/dist-packages/keras/backend/tensorflow_backend.py:4138: The name tf.random_uniform is deprecated. Please use tf.random.uniform instead.\n",
      "\n",
      "W0812 10:27:09.137092 140368448980864 deprecation_wrapper.py:119] From /usr/local/lib/python3.6/dist-packages/keras/backend/tensorflow_backend.py:133: The name tf.placeholder_with_default is deprecated. Please use tf.compat.v1.placeholder_with_default instead.\n",
      "\n",
      "W0812 10:27:09.161748 140368448980864 deprecation.py:506] From /usr/local/lib/python3.6/dist-packages/keras/backend/tensorflow_backend.py:3445: calling dropout (from tensorflow.python.ops.nn_ops) with keep_prob is deprecated and will be removed in a future version.\n",
      "Instructions for updating:\n",
      "Please use `rate` instead of `keep_prob`. Rate should be set to `rate = 1 - keep_prob`.\n"
     ]
    },
    {
     "name": "stdout",
     "output_type": "stream",
     "text": [
      "_________________________________________________________________\n",
      "Layer (type)                 Output Shape              Param #   \n",
      "=================================================================\n",
      "lstm_1 (LSTM)                (None, 32)                5376      \n",
      "_________________________________________________________________\n",
      "batch_normalization_1 (Batch (None, 32)                128       \n",
      "_________________________________________________________________\n",
      "dropout_1 (Dropout)          (None, 32)                0         \n",
      "_________________________________________________________________\n",
      "dense_1 (Dense)              (None, 1)                 33        \n",
      "=================================================================\n",
      "Total params: 5,537\n",
      "Trainable params: 5,473\n",
      "Non-trainable params: 64\n",
      "_________________________________________________________________\n"
     ]
    }
   ],
   "source": [
    "#normal LSTM model with few memory units\n",
    "from keras.models import Sequential\n",
    "from keras.layers import Dense, Bidirectional,MaxPooling1D,BatchNormalization, Dropout,TimeDistributed\n",
    "from keras.layers import LSTM\n",
    "\n",
    "from IPython.display import SVG\n",
    "from keras.utils.vis_utils import model_to_dot\n",
    "from keras.utils.vis_utils import plot_model\n",
    "\n",
    "\n",
    "model_1 = Sequential()\n",
    "model_1.add(LSTM(32, input_shape=(train_X.shape[1], train_X.shape[2])))\n",
    "#model_1.add(MaxPooling1D(pool_size=2, data_format='channels_first'))\n",
    "model_1.add(BatchNormalization(axis=1, momentum=0.99, epsilon=0.001, center=True))\n",
    "\n",
    "model_1.add(Dropout(0.25))\n",
    "#model.add(Dense(128, activation='relu'))\n",
    "model_1.add(Dense(1))\n",
    "model_1.summary()\n",
    "#visualise the model\n",
    "SVG(model_to_dot(model_1, show_shapes=True, show_layer_names=True).create(prog='dot', format='svg'))\n",
    "plot_model(model_1, to_file='/content/drive/My Drive/LSTMmodel1.png', show_shapes=True, show_layer_names=True)"
   ]
  },
  {
   "cell_type": "code",
   "execution_count": 0,
   "metadata": {
    "id": "6M42UxmqJHIa",
    "colab_type": "code",
    "outputId": "e97bdd3e-4115-49f9-c351-969983d01024",
    "colab": {
     "base_uri": "https://localhost:8080/",
     "height": 1000.0
    }
   },
   "outputs": [
    {
     "name": "stderr",
     "output_type": "stream",
     "text": [
      "W0812 09:01:52.370916 140700324304768 deprecation_wrapper.py:119] From /usr/local/lib/python3.6/dist-packages/keras/optimizers.py:790: The name tf.train.Optimizer is deprecated. Please use tf.compat.v1.train.Optimizer instead.\n",
      "\n",
      "W0812 09:01:52.706820 140700324304768 deprecation.py:323] From /usr/local/lib/python3.6/dist-packages/tensorflow/python/ops/math_grad.py:1250: add_dispatch_support.<locals>.wrapper (from tensorflow.python.ops.array_ops) is deprecated and will be removed in a future version.\n",
      "Instructions for updating:\n",
      "Use tf.where in 2.0, which has the same broadcast rule as np.where\n",
      "W0812 09:01:53.677251 140700324304768 deprecation_wrapper.py:119] From /usr/local/lib/python3.6/dist-packages/keras/backend/tensorflow_backend.py:986: The name tf.assign_add is deprecated. Please use tf.compat.v1.assign_add instead.\n",
      "\n"
     ]
    },
    {
     "name": "stdout",
     "output_type": "stream",
     "text": [
      "Train on 325234 samples, validate on 81309 samples\n",
      "Epoch 1/50\n",
      "325234/325234 [==============================] - 23s 70us/step - loss: 0.1272 - val_loss: 0.0067\n",
      "Epoch 2/50\n",
      "325234/325234 [==============================] - 18s 54us/step - loss: 0.0157 - val_loss: 0.0057\n",
      "Epoch 3/50\n",
      "325234/325234 [==============================] - 18s 55us/step - loss: 0.0023 - val_loss: 0.0010\n",
      "Epoch 4/50\n",
      "325234/325234 [==============================] - 18s 54us/step - loss: 0.0014 - val_loss: 8.5812e-04\n",
      "Epoch 5/50\n",
      "325234/325234 [==============================] - 18s 55us/step - loss: 0.0012 - val_loss: 5.5338e-04\n",
      "Epoch 6/50\n",
      "325234/325234 [==============================] - 18s 54us/step - loss: 0.0011 - val_loss: 7.6112e-04\n",
      "Epoch 7/50\n",
      "325234/325234 [==============================] - 18s 55us/step - loss: 0.0011 - val_loss: 2.6394e-04\n",
      "Epoch 8/50\n",
      "325234/325234 [==============================] - 18s 55us/step - loss: 0.0010 - val_loss: 8.1014e-04\n",
      "Epoch 9/50\n",
      "325234/325234 [==============================] - 17s 54us/step - loss: 0.0010 - val_loss: 6.9225e-04\n",
      "Epoch 10/50\n",
      "325234/325234 [==============================] - 18s 54us/step - loss: 9.9359e-04 - val_loss: 5.1150e-04\n",
      "Epoch 11/50\n",
      "325234/325234 [==============================] - 18s 54us/step - loss: 9.8002e-04 - val_loss: 5.0672e-04\n",
      "Epoch 12/50\n",
      "325234/325234 [==============================] - 18s 55us/step - loss: 9.7362e-04 - val_loss: 3.0867e-04\n",
      "Epoch 13/50\n",
      "325234/325234 [==============================] - 17s 54us/step - loss: 9.6192e-04 - val_loss: 3.5502e-04\n",
      "Epoch 14/50\n",
      "325234/325234 [==============================] - 18s 54us/step - loss: 9.5622e-04 - val_loss: 2.7013e-04\n",
      "Epoch 15/50\n",
      "325234/325234 [==============================] - 17s 54us/step - loss: 9.4971e-04 - val_loss: 3.9777e-04\n",
      "Epoch 16/50\n",
      "325234/325234 [==============================] - 17s 53us/step - loss: 9.4312e-04 - val_loss: 2.5103e-04\n",
      "Epoch 17/50\n",
      "325234/325234 [==============================] - 17s 54us/step - loss: 9.3757e-04 - val_loss: 5.4814e-04\n",
      "Epoch 18/50\n",
      "325234/325234 [==============================] - 17s 53us/step - loss: 9.3499e-04 - val_loss: 5.5938e-04\n",
      "Epoch 19/50\n",
      "325234/325234 [==============================] - 17s 53us/step - loss: 9.2960e-04 - val_loss: 3.0471e-04\n",
      "Epoch 20/50\n",
      "325234/325234 [==============================] - 17s 53us/step - loss: 9.2722e-04 - val_loss: 2.6470e-04\n",
      "Epoch 21/50\n",
      "325234/325234 [==============================] - 17s 54us/step - loss: 9.2613e-04 - val_loss: 2.1122e-04\n",
      "Epoch 22/50\n",
      "325234/325234 [==============================] - 17s 54us/step - loss: 9.2276e-04 - val_loss: 5.1848e-04\n",
      "Epoch 23/50\n",
      "325234/325234 [==============================] - 17s 53us/step - loss: 9.1883e-04 - val_loss: 2.5696e-04\n",
      "Epoch 24/50\n",
      "325234/325234 [==============================] - 18s 54us/step - loss: 9.2134e-04 - val_loss: 4.0494e-04\n",
      "Epoch 25/50\n",
      "325234/325234 [==============================] - 17s 54us/step - loss: 9.1973e-04 - val_loss: 1.9221e-04\n",
      "Epoch 26/50\n",
      "325234/325234 [==============================] - 18s 55us/step - loss: 9.1449e-04 - val_loss: 2.2682e-04\n",
      "Epoch 27/50\n",
      "325234/325234 [==============================] - 17s 53us/step - loss: 9.1849e-04 - val_loss: 2.1135e-04\n",
      "Epoch 28/50\n",
      "325234/325234 [==============================] - 17s 53us/step - loss: 9.1811e-04 - val_loss: 4.6635e-04\n",
      "Epoch 29/50\n",
      "325234/325234 [==============================] - 17s 53us/step - loss: 9.1564e-04 - val_loss: 3.2271e-04\n",
      "Epoch 30/50\n",
      "325234/325234 [==============================] - 17s 53us/step - loss: 9.1451e-04 - val_loss: 3.8630e-04\n",
      "Epoch 31/50\n",
      "325234/325234 [==============================] - 17s 54us/step - loss: 9.1249e-04 - val_loss: 2.4734e-04\n",
      "Epoch 32/50\n",
      "325234/325234 [==============================] - 17s 53us/step - loss: 9.1190e-04 - val_loss: 3.1130e-04\n",
      "Epoch 33/50\n",
      "325234/325234 [==============================] - 17s 53us/step - loss: 9.1364e-04 - val_loss: 4.4432e-04\n",
      "Epoch 34/50\n",
      "325234/325234 [==============================] - 17s 53us/step - loss: 9.1228e-04 - val_loss: 2.7076e-04\n",
      "Epoch 35/50\n",
      "325234/325234 [==============================] - 18s 54us/step - loss: 9.0694e-04 - val_loss: 2.5327e-04\n",
      "Epoch 36/50\n",
      "325234/325234 [==============================] - 17s 54us/step - loss: 9.1076e-04 - val_loss: 2.7558e-04\n",
      "Epoch 37/50\n",
      "325234/325234 [==============================] - 17s 53us/step - loss: 9.1037e-04 - val_loss: 3.3515e-04\n",
      "Epoch 38/50\n",
      "325234/325234 [==============================] - 17s 53us/step - loss: 9.1310e-04 - val_loss: 2.9984e-04\n",
      "Epoch 39/50\n",
      "325234/325234 [==============================] - 17s 53us/step - loss: 9.1081e-04 - val_loss: 3.3172e-04\n",
      "Epoch 40/50\n",
      "325234/325234 [==============================] - 18s 54us/step - loss: 9.0826e-04 - val_loss: 6.6620e-04\n",
      "Epoch 41/50\n",
      "325234/325234 [==============================] - 17s 53us/step - loss: 9.0816e-04 - val_loss: 3.0431e-04\n",
      "Epoch 42/50\n",
      "325234/325234 [==============================] - 17s 53us/step - loss: 9.0878e-04 - val_loss: 2.5530e-04\n",
      "Epoch 43/50\n",
      "325234/325234 [==============================] - 17s 53us/step - loss: 9.0497e-04 - val_loss: 1.4749e-04\n",
      "Epoch 44/50\n",
      "325234/325234 [==============================] - 18s 54us/step - loss: 9.0693e-04 - val_loss: 3.6071e-04\n",
      "Epoch 45/50\n",
      "325234/325234 [==============================] - 17s 53us/step - loss: 9.0530e-04 - val_loss: 3.1626e-04\n",
      "Epoch 46/50\n",
      "325234/325234 [==============================] - 17s 53us/step - loss: 9.0565e-04 - val_loss: 4.6041e-04\n",
      "Epoch 47/50\n",
      "325234/325234 [==============================] - 17s 53us/step - loss: 9.0890e-04 - val_loss: 3.3358e-04\n",
      "Epoch 48/50\n",
      "325234/325234 [==============================] - 17s 53us/step - loss: 9.0570e-04 - val_loss: 2.3092e-04\n",
      "Epoch 49/50\n",
      "325234/325234 [==============================] - 17s 54us/step - loss: 9.0708e-04 - val_loss: 2.7221e-04\n",
      "Epoch 50/50\n",
      "325234/325234 [==============================] - 17s 53us/step - loss: 9.0370e-04 - val_loss: 4.7704e-04\n"
     ]
    }
   ],
   "source": [
    "from keras import backend as K\n",
    "from keras.callbacks import TensorBoard\n",
    "from keras import optimizers\n",
    "\n",
    "#run the model\n",
    "tbCallBack = TensorBoard(log_dir='tb_logs', \n",
    "                         histogram_freq=1,\n",
    "                         write_graph=True,\n",
    "                         write_grads=True,\n",
    "                         batch_size=128,\n",
    "                         write_images=True)\n",
    "adam=optimizers.Adam(lr=0.0001, beta_1=0.9, beta_2=0.999, epsilon=None, decay=0.0, amsgrad=False)\n",
    "\n",
    "model_1.compile(loss='mae', optimizer=adam)\n",
    "# fit network\n",
    "#history = model.fit(train_X, train_y, epochs=50, batch_size=128, validation_data=(test_X, test_y), verbose=2, shuffle=False,callbacks=[tbCallBack])\n",
    "history_1 = model_1.fit(train_X, train_y, epochs=50, batch_size=128, validation_data=(test_X, test_y), verbose=1, shuffle=False)"
   ]
  },
  {
   "cell_type": "code",
   "execution_count": 0,
   "metadata": {
    "id": "NW4By3Kk8m4U",
    "colab_type": "code",
    "outputId": "bcbcfda0-89e2-4eeb-ee6f-d0290e816ea1",
    "colab": {
     "base_uri": "https://localhost:8080/",
     "height": 284.0
    }
   },
   "outputs": [
    {
     "name": "stdout",
     "output_type": "stream",
     "text": [
      "_________________________________________________________________\n",
      "Layer (type)                 Output Shape              Param #   \n",
      "=================================================================\n",
      "lstm_3 (LSTM)                (None, 128)               70656     \n",
      "_________________________________________________________________\n",
      "batch_normalization_2 (Batch (None, 128)               512       \n",
      "_________________________________________________________________\n",
      "dropout_2 (Dropout)          (None, 128)               0         \n",
      "_________________________________________________________________\n",
      "dense_2 (Dense)              (None, 1)                 129       \n",
      "=================================================================\n",
      "Total params: 71,297\n",
      "Trainable params: 71,041\n",
      "Non-trainable params: 256\n",
      "_________________________________________________________________\n"
     ]
    }
   ],
   "source": [
    "#normal LSTM model with more memory units (#LSTM2)\n",
    "from keras.models import Sequential\n",
    "from keras.layers import Dense, Bidirectional,MaxPooling1D,BatchNormalization, Dropout,TimeDistributed\n",
    "from keras.layers import LSTM\n",
    "\n",
    "from IPython.display import SVG\n",
    "from keras.utils.vis_utils import model_to_dot\n",
    "from keras.utils.vis_utils import plot_model\n",
    "\n",
    "\n",
    "model_2 = Sequential()\n",
    "model_2.add(LSTM(128, input_shape=(train_X.shape[1], train_X.shape[2])))\n",
    "#model_2.add(MaxPooling1D(pool_size=2, data_format='channels_first'))\n",
    "model_2.add(BatchNormalization(axis=1, momentum=0.99, epsilon=0.001, center=True))\n",
    "\n",
    "model_2.add(Dropout(0.25))\n",
    "#model.add(Dense(128, activation='relu'))\n",
    "model_2.add(Dense(1))\n",
    "model_2.summary()\n",
    "#visualise the model\n",
    "SVG(model_to_dot(model_2, show_shapes=True, show_layer_names=True).create(prog='dot', format='svg'))\n",
    "plot_model(model_2, to_file='/content/drive/My Drive/LSTMmodel2.png', show_shapes=True, show_layer_names=True)"
   ]
  },
  {
   "cell_type": "code",
   "execution_count": 0,
   "metadata": {
    "id": "9TvX-QB8Jzwx",
    "colab_type": "code",
    "outputId": "9e9eeeea-6c79-4650-f989-64c04702b384",
    "colab": {
     "base_uri": "https://localhost:8080/",
     "height": 1000.0
    }
   },
   "outputs": [
    {
     "name": "stdout",
     "output_type": "stream",
     "text": [
      "Train on 325234 samples, validate on 81309 samples\n",
      "Epoch 1/50\n",
      "325234/325234 [==============================] - 18s 56us/step - loss: 0.0578 - val_loss: 0.0153\n",
      "Epoch 2/50\n",
      "325234/325234 [==============================] - 17s 53us/step - loss: 0.0046 - val_loss: 0.0013\n",
      "Epoch 3/50\n",
      "325234/325234 [==============================] - 17s 53us/step - loss: 0.0013 - val_loss: 9.5858e-04\n",
      "Epoch 4/50\n",
      "325234/325234 [==============================] - 17s 53us/step - loss: 0.0011 - val_loss: 0.0012\n",
      "Epoch 5/50\n",
      "325234/325234 [==============================] - 17s 53us/step - loss: 9.7424e-04 - val_loss: 4.1606e-04\n",
      "Epoch 6/50\n",
      "325234/325234 [==============================] - 17s 53us/step - loss: 9.2767e-04 - val_loss: 2.5803e-04\n",
      "Epoch 7/50\n",
      "325234/325234 [==============================] - 17s 53us/step - loss: 9.0207e-04 - val_loss: 2.9031e-04\n",
      "Epoch 8/50\n",
      "325234/325234 [==============================] - 17s 53us/step - loss: 8.8556e-04 - val_loss: 2.6905e-04\n",
      "Epoch 9/50\n",
      "325234/325234 [==============================] - 17s 54us/step - loss: 8.7496e-04 - val_loss: 2.8828e-04\n",
      "Epoch 10/50\n",
      "325234/325234 [==============================] - 18s 54us/step - loss: 8.6153e-04 - val_loss: 4.0261e-04\n",
      "Epoch 11/50\n",
      "325234/325234 [==============================] - 18s 54us/step - loss: 8.5694e-04 - val_loss: 1.8730e-04\n",
      "Epoch 12/50\n",
      "325234/325234 [==============================] - 18s 54us/step - loss: 8.5290e-04 - val_loss: 4.6528e-04\n",
      "Epoch 13/50\n",
      "325234/325234 [==============================] - 18s 54us/step - loss: 8.4869e-04 - val_loss: 2.3866e-04\n",
      "Epoch 14/50\n",
      "325234/325234 [==============================] - 17s 54us/step - loss: 8.4466e-04 - val_loss: 2.0964e-04\n",
      "Epoch 15/50\n",
      "325234/325234 [==============================] - 17s 53us/step - loss: 8.4230e-04 - val_loss: 1.7671e-04\n",
      "Epoch 16/50\n",
      "325234/325234 [==============================] - 17s 54us/step - loss: 8.4049e-04 - val_loss: 2.1303e-04\n",
      "Epoch 17/50\n",
      "325234/325234 [==============================] - 17s 54us/step - loss: 8.3821e-04 - val_loss: 2.3870e-04\n",
      "Epoch 18/50\n",
      "325234/325234 [==============================] - 17s 53us/step - loss: 8.3796e-04 - val_loss: 1.8506e-04\n",
      "Epoch 19/50\n",
      "325234/325234 [==============================] - 17s 53us/step - loss: 8.3585e-04 - val_loss: 6.3746e-04\n",
      "Epoch 20/50\n",
      "325234/325234 [==============================] - 17s 53us/step - loss: 8.3475e-04 - val_loss: 3.2543e-04\n",
      "Epoch 21/50\n",
      "325234/325234 [==============================] - 17s 53us/step - loss: 8.3407e-04 - val_loss: 1.9113e-04\n",
      "Epoch 22/50\n",
      "325234/325234 [==============================] - 17s 54us/step - loss: 8.3369e-04 - val_loss: 2.7016e-04\n",
      "Epoch 23/50\n",
      "325234/325234 [==============================] - 17s 53us/step - loss: 8.3423e-04 - val_loss: 1.6315e-04\n",
      "Epoch 24/50\n",
      "325234/325234 [==============================] - 17s 53us/step - loss: 8.3432e-04 - val_loss: 3.8671e-04\n",
      "Epoch 25/50\n",
      "325234/325234 [==============================] - 17s 53us/step - loss: 8.3279e-04 - val_loss: 3.2103e-04\n",
      "Epoch 26/50\n",
      "325234/325234 [==============================] - 18s 54us/step - loss: 8.3010e-04 - val_loss: 2.4129e-04\n",
      "Epoch 27/50\n",
      "325234/325234 [==============================] - 18s 54us/step - loss: 8.3212e-04 - val_loss: 4.7054e-04\n",
      "Epoch 28/50\n",
      "325234/325234 [==============================] - 17s 54us/step - loss: 8.3255e-04 - val_loss: 2.7282e-04\n",
      "Epoch 29/50\n",
      "325234/325234 [==============================] - 18s 55us/step - loss: 8.3143e-04 - val_loss: 5.3297e-04\n",
      "Epoch 30/50\n",
      "325234/325234 [==============================] - 17s 53us/step - loss: 8.2966e-04 - val_loss: 5.0141e-04\n",
      "Epoch 31/50\n",
      "325234/325234 [==============================] - 17s 54us/step - loss: 8.2853e-04 - val_loss: 1.8908e-04\n",
      "Epoch 32/50\n",
      "325234/325234 [==============================] - 17s 53us/step - loss: 8.2870e-04 - val_loss: 4.2235e-04\n",
      "Epoch 33/50\n",
      "325234/325234 [==============================] - 17s 54us/step - loss: 8.2939e-04 - val_loss: 4.5859e-04\n",
      "Epoch 34/50\n",
      "325234/325234 [==============================] - 18s 54us/step - loss: 8.2772e-04 - val_loss: 2.3786e-04\n",
      "Epoch 35/50\n",
      "325234/325234 [==============================] - 17s 53us/step - loss: 8.3001e-04 - val_loss: 2.0249e-04\n",
      "Epoch 36/50\n",
      "325234/325234 [==============================] - 17s 53us/step - loss: 8.2910e-04 - val_loss: 2.9938e-04\n",
      "Epoch 37/50\n",
      "325234/325234 [==============================] - 17s 53us/step - loss: 8.2957e-04 - val_loss: 1.6920e-04\n",
      "Epoch 38/50\n",
      "325234/325234 [==============================] - 17s 53us/step - loss: 8.2772e-04 - val_loss: 2.0075e-04\n",
      "Epoch 39/50\n",
      "325234/325234 [==============================] - 17s 53us/step - loss: 8.2911e-04 - val_loss: 5.7145e-04\n",
      "Epoch 40/50\n",
      "325234/325234 [==============================] - 17s 53us/step - loss: 8.2695e-04 - val_loss: 5.1328e-04\n",
      "Epoch 41/50\n",
      "325234/325234 [==============================] - 17s 53us/step - loss: 8.2838e-04 - val_loss: 7.1323e-04\n",
      "Epoch 42/50\n",
      "325234/325234 [==============================] - 17s 53us/step - loss: 8.2694e-04 - val_loss: 7.1192e-04\n",
      "Epoch 43/50\n",
      "325234/325234 [==============================] - 17s 53us/step - loss: 8.2764e-04 - val_loss: 3.7581e-04\n",
      "Epoch 44/50\n",
      "325234/325234 [==============================] - 17s 53us/step - loss: 8.2608e-04 - val_loss: 3.4160e-04\n",
      "Epoch 45/50\n",
      "325234/325234 [==============================] - 17s 54us/step - loss: 8.2714e-04 - val_loss: 4.0096e-04\n",
      "Epoch 46/50\n",
      "325234/325234 [==============================] - 17s 53us/step - loss: 8.2801e-04 - val_loss: 1.7367e-04\n",
      "Epoch 47/50\n",
      "325234/325234 [==============================] - 18s 55us/step - loss: 8.3017e-04 - val_loss: 4.8295e-04\n",
      "Epoch 48/50\n",
      "325234/325234 [==============================] - 17s 53us/step - loss: 8.2838e-04 - val_loss: 2.2567e-04\n",
      "Epoch 49/50\n",
      "325234/325234 [==============================] - 17s 53us/step - loss: 8.2648e-04 - val_loss: 2.0217e-04\n",
      "Epoch 50/50\n",
      "325234/325234 [==============================] - 17s 53us/step - loss: 8.2812e-04 - val_loss: 2.9221e-04\n"
     ]
    }
   ],
   "source": [
    "from keras import backend as K\n",
    "from keras.callbacks import TensorBoard\n",
    "from keras import optimizers\n",
    "\n",
    "#run the model\n",
    "\n",
    "adam=optimizers.Adam(lr=0.0001, beta_1=0.9, beta_2=0.999, epsilon=None, decay=0.0, amsgrad=False)\n",
    "\n",
    "model_2.compile(loss='mae', optimizer=adam)\n",
    "# fit network\n",
    "#history = model.fit(train_X, train_y, epochs=50, batch_size=128, validation_data=(test_X, test_y), verbose=2, shuffle=False,callbacks=[tbCallBack])\n",
    "history_2 = model_2.fit(train_X, train_y, epochs=50, batch_size=128, validation_data=(test_X, test_y), verbose=1, shuffle=False)"
   ]
  },
  {
   "cell_type": "code",
   "execution_count": 0,
   "metadata": {
    "id": "MJNLhitBhF40",
    "colab_type": "code",
    "outputId": "e7db2d35-b1bb-4f40-d972-be39bf9c5469",
    "colab": {
     "base_uri": "https://localhost:8080/",
     "height": 390.0
    }
   },
   "outputs": [
    {
     "name": "stdout",
     "output_type": "stream",
     "text": [
      "_________________________________________________________________\n",
      "Layer (type)                 Output Shape              Param #   \n",
      "=================================================================\n",
      "bidirectional_1 (Bidirection (None, 1, 512)            544768    \n",
      "_________________________________________________________________\n",
      "batch_normalization_3 (Batch (None, 1, 512)            4         \n",
      "_________________________________________________________________\n",
      "bidirectional_2 (Bidirection (None, 256)               656384    \n",
      "_________________________________________________________________\n",
      "batch_normalization_4 (Batch (None, 256)               1024      \n",
      "_________________________________________________________________\n",
      "dense_3 (Dense)              (None, 256)               65792     \n",
      "_________________________________________________________________\n",
      "dropout_3 (Dropout)          (None, 256)               0         \n",
      "_________________________________________________________________\n",
      "dense_4 (Dense)              (None, 1)                 257       \n",
      "=================================================================\n",
      "Total params: 1,268,229\n",
      "Trainable params: 1,267,715\n",
      "Non-trainable params: 514\n",
      "_________________________________________________________________\n"
     ]
    }
   ],
   "source": [
    "#proposed model\n",
    "from keras.models import Sequential\n",
    "from keras.layers import Dense, Bidirectional,MaxPooling1D,BatchNormalization, Dropout,TimeDistributed\n",
    "from keras.layers import LSTM\n",
    "\n",
    "from IPython.display import SVG\n",
    "from keras.utils.vis_utils import model_to_dot\n",
    "from keras.utils.vis_utils import plot_model\n",
    "\n",
    "\n",
    "model_3 = Sequential()\n",
    "model_3.add(Bidirectional(LSTM(256, return_sequences=True), input_shape=(train_X.shape[1], train_X.shape[2])))\n",
    "#model.add(LSTM(128, return_sequences=True, input_shape=(train_X.shape[1], train_X.shape[2])))\n",
    "#model_3.add(MaxPooling1D(pool_size=2, data_format='channels_first'))\n",
    "model_3.add(BatchNormalization(axis=1, momentum=0.99, epsilon=0.001, center=True))\n",
    "\n",
    "#model.add(Bidirectional(LSTM(50, return_sequences=True),input_shape=(train_X.shape[1], train_X.shape[2])))\n",
    "model_3.add(Bidirectional(LSTM(128)))\n",
    "#model.add(LSTM(64))\n",
    "#model.add(MaxPooling1D(pool_size=2, data_format='channels_first'))\n",
    "model_3.add(BatchNormalization(axis=1, momentum=0.99, epsilon=0.001, center=True))\n",
    "\n",
    "model_3.add(Dense(256, activation='softmax'))\n",
    "model_3.add(Dropout(0.25))\n",
    "#model.add(Dense(128, activation='relu'))\n",
    "model_3.add(Dense(1))\n",
    "model_3.summary()\n",
    "#visualise the model\n",
    "SVG(model_to_dot(model_3, show_shapes=True, show_layer_names=True).create(prog='dot', format='svg'))\n",
    "plot_model(model_3, to_file='/content/drive/My Drive/LSTMmodel3.png', show_shapes=True, show_layer_names=True)"
   ]
  },
  {
   "cell_type": "code",
   "execution_count": 0,
   "metadata": {
    "id": "vTbzXai9j_fT",
    "colab_type": "code",
    "outputId": "b061b589-1183-4f5a-9c5b-c3c9b041957b",
    "colab": {
     "base_uri": "https://localhost:8080/",
     "height": 266.0
    }
   },
   "outputs": [
    {
     "name": "stdout",
     "output_type": "stream",
     "text": [
      "--2019-08-12 09:31:08--  https://bin.equinox.io/c/4VmDzA7iaHb/ngrok-stable-linux-amd64.zip\n",
      "Resolving bin.equinox.io (bin.equinox.io)... 52.200.184.208, 52.2.175.150, 52.200.233.201, ...\n",
      "Connecting to bin.equinox.io (bin.equinox.io)|52.200.184.208|:443... connected.\n",
      "HTTP request sent, awaiting response... 200 OK\n",
      "Length: 13607069 (13M) [application/octet-stream]\n",
      "Saving to: ‘ngrok-stable-linux-amd64.zip’\n",
      "\n",
      "\r          ngrok-sta   0%[                    ]       0  --.-KB/s               \r         ngrok-stab  13%[=>                  ]   1.72M  8.40MB/s               \rngrok-stable-linux- 100%[===================>]  12.98M  36.8MB/s    in 0.4s    \n",
      "\n",
      "2019-08-12 09:31:08 (36.8 MB/s) - ‘ngrok-stable-linux-amd64.zip’ saved [13607069/13607069]\n",
      "\n",
      "Archive:  ngrok-stable-linux-amd64.zip\n",
      "  inflating: ngrok                   \n",
      "https://da02bb7a.ngrok.io\n"
     ]
    }
   ],
   "source": [
    "LOG_DIR = 'tb_logs'\n",
    "\n",
    "!wget https://bin.equinox.io/c/4VmDzA7iaHb/ngrok-stable-linux-amd64.zip\n",
    "!unzip ngrok-stable-linux-amd64.zip\n",
    "\n",
    "import os\n",
    "if not os.path.exists(LOG_DIR):\n",
    "  os.makedirs(LOG_DIR)\n",
    "  \n",
    "get_ipython().system_raw(\n",
    "    'tensorboard --logdir {} --host 0.0.0.0 --port 6006 &'\n",
    "    .format(LOG_DIR))\n",
    "\n",
    "get_ipython().system_raw('./ngrok http 6006 &')\n",
    "\n",
    "!curl -s http://localhost:4040/api/tunnels | python3 -c \\\n",
    "    \"import sys, json; print(json.load(sys.stdin)['tunnels'][0]['public_url'])\""
   ]
  },
  {
   "cell_type": "code",
   "execution_count": 0,
   "metadata": {
    "id": "NEychl3Ph44P",
    "colab_type": "code",
    "outputId": "d0f46f6d-a022-43d8-8290-671469f38059",
    "colab": {
     "base_uri": "https://localhost:8080/",
     "height": 1000.0
    }
   },
   "outputs": [
    {
     "name": "stdout",
     "output_type": "stream",
     "text": [
      "Train on 325234 samples, validate on 81309 samples\n",
      "Epoch 1/50\n",
      "325234/325234 [==============================] - 50s 153us/step - loss: 0.0018 - val_loss: 7.1830e-04\n",
      "Epoch 2/50\n",
      "325234/325234 [==============================] - 47s 144us/step - loss: 0.0010 - val_loss: 7.4666e-04\n",
      "Epoch 3/50\n",
      "325234/325234 [==============================] - 47s 143us/step - loss: 8.7717e-04 - val_loss: 5.2429e-04\n",
      "Epoch 4/50\n",
      "325234/325234 [==============================] - 46s 143us/step - loss: 7.9378e-04 - val_loss: 7.4505e-04\n",
      "Epoch 5/50\n",
      "325234/325234 [==============================] - 47s 143us/step - loss: 7.4185e-04 - val_loss: 3.4725e-04\n",
      "Epoch 6/50\n",
      "325234/325234 [==============================] - 47s 143us/step - loss: 6.9333e-04 - val_loss: 6.3337e-04\n",
      "Epoch 7/50\n",
      "325234/325234 [==============================] - 47s 144us/step - loss: 6.6163e-04 - val_loss: 7.5492e-04\n",
      "Epoch 8/50\n",
      "325234/325234 [==============================] - 47s 143us/step - loss: 6.3157e-04 - val_loss: 2.6807e-04\n",
      "Epoch 9/50\n",
      "325234/325234 [==============================] - 47s 143us/step - loss: 6.2616e-04 - val_loss: 3.5073e-04\n",
      "Epoch 10/50\n",
      "325234/325234 [==============================] - 47s 145us/step - loss: 6.0428e-04 - val_loss: 5.9890e-04\n",
      "Epoch 11/50\n",
      "325234/325234 [==============================] - 47s 144us/step - loss: 5.8390e-04 - val_loss: 2.3624e-04\n",
      "Epoch 12/50\n",
      "325234/325234 [==============================] - 47s 146us/step - loss: 5.7171e-04 - val_loss: 3.4705e-04\n",
      "Epoch 13/50\n",
      "325234/325234 [==============================] - 47s 144us/step - loss: 5.5145e-04 - val_loss: 3.5025e-04\n",
      "Epoch 14/50\n",
      "325234/325234 [==============================] - 47s 145us/step - loss: 5.4629e-04 - val_loss: 2.2768e-04\n",
      "Epoch 15/50\n",
      "325234/325234 [==============================] - 47s 145us/step - loss: 5.3135e-04 - val_loss: 2.7689e-04\n",
      "Epoch 16/50\n",
      "325234/325234 [==============================] - 47s 144us/step - loss: 5.2223e-04 - val_loss: 5.5767e-04\n",
      "Epoch 17/50\n",
      "325234/325234 [==============================] - 47s 144us/step - loss: 5.1036e-04 - val_loss: 3.5763e-04\n",
      "Epoch 18/50\n",
      "325234/325234 [==============================] - 47s 145us/step - loss: 5.0624e-04 - val_loss: 3.8937e-04\n",
      "Epoch 19/50\n",
      "325234/325234 [==============================] - 47s 145us/step - loss: 4.9549e-04 - val_loss: 3.7665e-04\n",
      "Epoch 20/50\n",
      "325234/325234 [==============================] - 47s 145us/step - loss: 4.8842e-04 - val_loss: 3.8836e-04\n",
      "Epoch 21/50\n",
      "325234/325234 [==============================] - 47s 144us/step - loss: 4.8399e-04 - val_loss: 3.5328e-04\n",
      "Epoch 22/50\n",
      "325234/325234 [==============================] - 47s 144us/step - loss: 4.8037e-04 - val_loss: 2.4154e-04\n",
      "Epoch 23/50\n",
      "325234/325234 [==============================] - 47s 144us/step - loss: 4.6694e-04 - val_loss: 2.3888e-04\n",
      "Epoch 24/50\n",
      "325234/325234 [==============================] - 47s 145us/step - loss: 4.6368e-04 - val_loss: 4.5118e-04\n",
      "Epoch 25/50\n",
      "325234/325234 [==============================] - 46s 143us/step - loss: 4.6116e-04 - val_loss: 2.4588e-04\n",
      "Epoch 26/50\n",
      "325234/325234 [==============================] - 47s 144us/step - loss: 4.5559e-04 - val_loss: 2.8091e-04\n",
      "Epoch 27/50\n",
      "325234/325234 [==============================] - 47s 145us/step - loss: 4.4687e-04 - val_loss: 2.6977e-04\n",
      "Epoch 28/50\n",
      "325234/325234 [==============================] - 46s 143us/step - loss: 4.4134e-04 - val_loss: 3.1195e-04\n",
      "Epoch 29/50\n",
      "325234/325234 [==============================] - 47s 144us/step - loss: 4.4019e-04 - val_loss: 2.0874e-04\n",
      "Epoch 30/50\n",
      "325234/325234 [==============================] - 46s 142us/step - loss: 4.3643e-04 - val_loss: 4.1283e-04\n",
      "Epoch 31/50\n",
      "325234/325234 [==============================] - 47s 144us/step - loss: 4.3097e-04 - val_loss: 2.8915e-04\n",
      "Epoch 32/50\n",
      "325234/325234 [==============================] - 47s 145us/step - loss: 4.2875e-04 - val_loss: 4.7613e-04\n",
      "Epoch 33/50\n",
      "325234/325234 [==============================] - 47s 144us/step - loss: 4.2742e-04 - val_loss: 2.6791e-04\n",
      "Epoch 34/50\n",
      "325234/325234 [==============================] - 47s 144us/step - loss: 4.2174e-04 - val_loss: 2.2155e-04\n",
      "Epoch 35/50\n",
      "325234/325234 [==============================] - 47s 144us/step - loss: 4.1986e-04 - val_loss: 2.2705e-04\n",
      "Epoch 36/50\n",
      "325234/325234 [==============================] - 47s 143us/step - loss: 4.1431e-04 - val_loss: 2.2068e-04\n",
      "Epoch 37/50\n",
      "325234/325234 [==============================] - 46s 143us/step - loss: 4.0838e-04 - val_loss: 2.3900e-04\n",
      "Epoch 38/50\n",
      "325234/325234 [==============================] - 46s 143us/step - loss: 4.0926e-04 - val_loss: 2.5899e-04\n",
      "Epoch 39/50\n",
      "325234/325234 [==============================] - 47s 144us/step - loss: 4.0487e-04 - val_loss: 2.0980e-04\n",
      "Epoch 40/50\n",
      "325234/325234 [==============================] - 47s 144us/step - loss: 4.0424e-04 - val_loss: 1.8629e-04\n",
      "Epoch 41/50\n",
      "325234/325234 [==============================] - 47s 143us/step - loss: 4.0108e-04 - val_loss: 3.1603e-04\n",
      "Epoch 42/50\n",
      "325234/325234 [==============================] - 47s 144us/step - loss: 3.9726e-04 - val_loss: 2.6144e-04\n",
      "Epoch 43/50\n",
      "325234/325234 [==============================] - 47s 143us/step - loss: 3.9520e-04 - val_loss: 3.7189e-04\n",
      "Epoch 44/50\n",
      "325234/325234 [==============================] - 46s 143us/step - loss: 3.9579e-04 - val_loss: 2.2681e-04\n",
      "Epoch 45/50\n",
      "325234/325234 [==============================] - 47s 145us/step - loss: 3.9179e-04 - val_loss: 3.4608e-04\n",
      "Epoch 46/50\n",
      "325234/325234 [==============================] - 47s 143us/step - loss: 3.9090e-04 - val_loss: 2.1629e-04\n",
      "Epoch 47/50\n",
      "325234/325234 [==============================] - 47s 143us/step - loss: 3.8752e-04 - val_loss: 1.8767e-04\n",
      "Epoch 48/50\n",
      "325234/325234 [==============================] - 47s 144us/step - loss: 3.8433e-04 - val_loss: 1.8644e-04\n",
      "Epoch 49/50\n",
      "325234/325234 [==============================] - 47s 145us/step - loss: 3.8533e-04 - val_loss: 3.3886e-04\n",
      "Epoch 50/50\n",
      "325234/325234 [==============================] - 47s 145us/step - loss: 3.8309e-04 - val_loss: 2.5624e-04\n"
     ]
    }
   ],
   "source": [
    "from keras import backend as K\n",
    "from keras.callbacks import TensorBoard\n",
    "from keras import optimizers\n",
    "\n",
    "#run the model\n",
    "tbCallBack = TensorBoard(log_dir='tb_logs', \n",
    "                         histogram_freq=1,\n",
    "                         write_graph=True,\n",
    "                         write_grads=True,\n",
    "                         batch_size=128,\n",
    "                         write_images=True)\n",
    "adam=optimizers.Adam(lr=0.0001, beta_1=0.9, beta_2=0.999, epsilon=None, decay=0.0, amsgrad=False)\n",
    "\n",
    "model_3.compile(loss='mae', optimizer=adam)\n",
    "# fit network\n",
    "#history = model.fit(train_X, train_y, epochs=50, batch_size=128, validation_data=(test_X, test_y), verbose=2, shuffle=False,callbacks=[tbCallBack])\n",
    "history_3 = model_3.fit(train_X, train_y, epochs=50, batch_size=128, validation_data=(test_X, test_y), verbose=1, shuffle=False)"
   ]
  },
  {
   "cell_type": "code",
   "execution_count": 0,
   "metadata": {
    "id": "uo9aC4ocXqMM",
    "colab_type": "code",
    "outputId": "676f2b1f-1b84-4e30-e2e9-55f379d9acc1",
    "colab": {
     "base_uri": "https://localhost:8080/",
     "height": 313.0
    }
   },
   "outputs": [
    {
     "data": {
      "text/plain": [
       "Text(0, 0.5, 'MAE')"
      ]
     },
     "execution_count": 20,
     "metadata": {
      "tags": []
     },
     "output_type": "execute_result"
    },
    {
     "data": {
      "image/png": "[encoded data removed]",
      "text/plain": [
       "<Figure size 432x288 with 1 Axes>"
      ]
     },
     "metadata": {
      "tags": []
     },
     "output_type": "display_data"
    }
   ],
   "source": [
    "plt.plot(history_1.history['loss'],label='LSTM1')\n",
    "plt.plot(history_2.history['loss'],label='LSTM2')\n",
    "plt.plot(history_3.history['loss'],label='proposed LSTM')\n",
    "\n",
    "#plt.plot(history.history['val_loss'],label='Validation losses')\n",
    "plt.legend()\n",
    "plt.title('Training Losses plot')\n",
    "plt.xlabel('Epochs')\n",
    "plt.ylabel('MAE')\n",
    "\n"
   ]
  },
  {
   "cell_type": "code",
   "execution_count": 0,
   "metadata": {
    "id": "n5_PXpdIJUGO",
    "colab_type": "code",
    "outputId": "9376ceb0-748b-468f-dfc2-19ef8a5c8faa",
    "colab": {
     "base_uri": "https://localhost:8080/",
     "height": 313.0
    }
   },
   "outputs": [
    {
     "data": {
      "text/plain": [
       "Text(0, 0.5, 'MAE')"
      ]
     },
     "execution_count": 21,
     "metadata": {
      "tags": []
     },
     "output_type": "execute_result"
    },
    {
     "data": {
      "image/png": "[encoded data removed]",
      "text/plain": [
       "<Figure size 432x288 with 1 Axes>"
      ]
     },
     "metadata": {
      "tags": []
     },
     "output_type": "display_data"
    }
   ],
   "source": [
    "plt.plot(history_3.history['loss'],label='proposed LSTM')\n",
    "\n",
    "#plt.plot(history.history['val_loss'],label='Validation losses')\n",
    "plt.legend()\n",
    "plt.title('Training Losses plot')\n",
    "plt.xlabel('Epochs')\n",
    "plt.ylabel('MAE')"
   ]
  },
  {
   "cell_type": "code",
   "execution_count": 0,
   "metadata": {
    "id": "VeegnqXhmMOO",
    "colab_type": "code",
    "outputId": "b1f8ac42-941c-44f6-8700-f3451c437bce",
    "colab": {
     "base_uri": "https://localhost:8080/",
     "height": 284.0
    }
   },
   "outputs": [
    {
     "data": {
      "image/png": "[encoded data removed]",
      "text/plain": [
       "<Figure size 432x288 with 1 Axes>"
      ]
     },
     "metadata": {
      "tags": []
     },
     "output_type": "display_data"
    }
   ],
   "source": [
    "label=['proposed LSTM','LSTM2','LSTM1']\n",
    "import numpy as np\n",
    "index = np.arange(len(label))\n",
    "\n",
    "plt.bar(index,[history_3.history['loss'][49],history_2.history['loss'][49],history_1.history['loss'][49]])\n",
    "plt.ylabel('MAE', fontsize=12)\n",
    "plt.xticks(index, label, fontsize=12, rotation=0)\n",
    "plt.title('Final MAE score for each LSTM model')\n",
    "plt.text(0,history_3.history['loss'][49],str.format('{0:.4f}',history_3.history['loss'][49]))\n",
    "plt.text(1,history_2.history['loss'][49],str.format('{0:.4f}',history_2.history['loss'][49]))\n",
    "plt.text(2,history_1.history['loss'][49],str.format('{0:.4f}',history_1.history['loss'][49]))\n",
    "plt.show()"
   ]
  },
  {
   "cell_type": "code",
   "execution_count": 0,
   "metadata": {
    "id": "fVyBNvwOYCF6",
    "colab_type": "code",
    "colab": {}
   },
   "outputs": [],
   "source": [
    "predictedY_3=model_3.predict(test_X)\n",
    "predictedY_2=model_2.predict(test_X)\n",
    "predictedY_1=model_1.predict(test_X)"
   ]
  },
  {
   "cell_type": "code",
   "execution_count": 0,
   "metadata": {
    "id": "yxEweF2c20gF",
    "colab_type": "code",
    "outputId": "1271c5ad-45d3-48c3-e49d-cbef91b678f2",
    "colab": {
     "base_uri": "https://localhost:8080/",
     "height": 299.0
    }
   },
   "outputs": [
    {
     "data": {
      "text/plain": [
       "Text(0.5, 1.0, 'Predcited popularity with True Popularity')"
      ]
     },
     "execution_count": 24,
     "metadata": {
      "tags": []
     },
     "output_type": "execute_result"
    },
    {
     "data": {
      "image/png": "[encoded data removed]",
      "text/plain": [
       "<Figure size 432x288 with 1 Axes>"
      ]
     },
     "metadata": {
      "tags": []
     },
     "output_type": "display_data"
    }
   ],
   "source": [
    "plt.plot(test_y, label = \"True value\")\n",
    "plt.plot(predictedY_3, label = \"Predicted Value\")\n",
    "plt.legend()\n",
    "plt.title('Predcited popularity with True Popularity')"
   ]
  },
  {
   "cell_type": "code",
   "execution_count": 0,
   "metadata": {
    "id": "niTG83BCYS01",
    "colab_type": "code",
    "outputId": "e6789368-6114-410a-92bc-0a2da9cd0d7c",
    "colab": {
     "base_uri": "https://localhost:8080/",
     "height": 305.0
    }
   },
   "outputs": [
    {
     "data": {
      "image/png": "[encoded data removed]",
      "text/plain": [
       "<Figure size 432x288 with 2 Axes>"
      ]
     },
     "metadata": {
      "tags": []
     },
     "output_type": "display_data"
    },
    {
     "name": "stdout",
     "output_type": "stream",
     "text": [
      "['MAE3:', 0.0002562431, 'MAE2:', 0.00029220502, 'MAE1:', 0.00047703565]\n",
      "['R2_3:', 0.9703508906575328, 'R2_2:', 0.9732833039644505, 'R2_1:', 0.9690677008793226]\n"
     ]
    }
   ],
   "source": [
    "# calculate testing MAE and R^2\n",
    "from sklearn.metrics import mean_absolute_error as mae\n",
    "from sklearn.metrics import r2_score as rscore\n",
    "\n",
    "mae_3=mae(test_y, predictedY_3)\n",
    "mae_2=mae(test_y, predictedY_2)\n",
    "mae_1=mae(test_y, predictedY_1)\n",
    "\n",
    "plt.subplot(2,1,1)\n",
    "plt.bar(index,[mae_3,mae_2,mae_1])\n",
    "\n",
    "r2_3=abs(rscore(test_y, predictedY_3))\n",
    "r2_2=abs(rscore(test_y, predictedY_2))\n",
    "r2_1=abs(rscore(test_y, predictedY_1))\n",
    "plt.subplot(2,1,2)\n",
    "plt.bar(index,[r2_3,r2_2,r2_1])\n",
    "plt.title('r2 Score')\n",
    "plt.show()\n",
    "\n",
    "print(['MAE3:', mae_3, 'MAE2:', mae_2, 'MAE1:', mae_1])\n",
    "print(['R2_3:', r2_3, 'R2_2:', r2_2, 'R2_1:', r2_1])"
   ]
  },
  {
   "cell_type": "code",
   "execution_count": 0,
   "metadata": {
    "id": "dnugUjXnU3KW",
    "colab_type": "code",
    "outputId": "1508c1da-67a7-4179-8ffe-f12498803a70",
    "colab": {
     "base_uri": "https://localhost:8080/",
     "height": 35.0
    }
   },
   "outputs": [
    {
     "data": {
      "text/plain": [
       "(325234, 1, 9)"
      ]
     },
     "execution_count": 32,
     "metadata": {
      "tags": []
     },
     "output_type": "execute_result"
    }
   ],
   "source": [
    "train_X.shape"
   ]
  },
  {
   "cell_type": "code",
   "execution_count": 0,
   "metadata": {
    "id": "f6XuxqEnXuFk",
    "colab_type": "code",
    "outputId": "7a29aa55-b52a-4f32-ff74-8d15c70329c2",
    "colab": {
     "base_uri": "https://localhost:8080/",
     "height": 70.0
    }
   },
   "outputs": [
    {
     "name": "stderr",
     "output_type": "stream",
     "text": [
      "/usr/local/lib/python3.6/dist-packages/statsmodels/base/wrapper.py:35: FutureWarning: y is a deprecated alias for endog, will be removed in version 0.11.0\n",
      "  obj = getattr(results, attr)\n"
     ]
    },
    {
     "name": "stdout",
     "output_type": "stream",
     "text": [
      "['MAE: ', 0.06718205559729441, 'R2 Score:', 0.11108178361374277]\n"
     ]
    }
   ],
   "source": [
    "#for auto regression analysis as in [1] in paper\n",
    "from statsmodels.tsa.vector_ar.var_model import VAR\n",
    "\n",
    "trainData=train_X.reshape(train_X.shape[0],train_X.shape[2])\n",
    "testData=test_X.reshape(test_X.shape[0],test_X.shape[2])\n",
    "model_var = VAR(endog=trainData)\n",
    "model_fit = model_var.fit()\n",
    "prediction = model_fit.forecast(model_fit.y, steps=len(test_X))\n",
    "mae_var=mae(testData,prediction)\n",
    "r2_var=rscore(testData,prediction)\n",
    "print(['MAE: ',mae_var, 'R2 Score:',r2_var])"
   ]
  },
  {
   "cell_type": "code",
   "execution_count": 0,
   "metadata": {
    "id": "e284mKI0cyRg",
    "colab_type": "code",
    "outputId": "da95a673-0786-4d1e-819c-95056de49c6b",
    "colab": {
     "base_uri": "https://localhost:8080/",
     "height": 35.0
    }
   },
   "outputs": [
    {
     "name": "stdout",
     "output_type": "stream",
     "text": [
      "['MAE: ', 0.00012155962, 'R2 Score:', 0.9745204420273906]\n"
     ]
    }
   ],
   "source": [
    "#for linear regression analysis as in [16] in paper\n",
    "from sklearn import linear_model\n",
    "# create linear regression object \n",
    "reg = linear_model.LinearRegression() \n",
    "  \n",
    "# train the model using the training sets \n",
    "reg.fit(trainData, train_y)\n",
    "predicted_Y_LR=reg.predict(testData) \n",
    "mae_lr=mae(test_y,predicted_Y_LR)\n",
    "r2_lr=rscore(test_y,predicted_Y_LR)\n",
    "print(['MAE: ',mae_lr, 'R2 Score:',r2_lr])\n"
   ]
  },
  {
   "cell_type": "code",
   "execution_count": 0,
   "metadata": {
    "id": "rpdvxndRhsLb",
    "colab_type": "code",
    "outputId": "77872249-d01c-47f2-bfc1-db1e11ea3d43",
    "colab": {
     "base_uri": "https://localhost:8080/",
     "height": 35.0
    }
   },
   "outputs": [
    {
     "name": "stdout",
     "output_type": "stream",
     "text": [
      "['MAE: ', 0.06325990991639438, 'R2 Score:', 35.75386465537921]\n"
     ]
    }
   ],
   "source": [
    "#SVR from [13]\n",
    "from sklearn.svm import SVR\n",
    "svr_rbf = SVR(kernel='rbf',C=1,gamma=0.1)\n",
    "y_rbf = svr_rbf.fit(trainData,train_y).predict(testData)\n",
    "mae_rbf=mae(y_rbf,test_y)\n",
    "r2_rbf=abs(rscore(test_y,y_rbf))\n",
    "print(['MAE: ',mae_rbf, 'R2 Score:',r2_rbf])"
   ]
  },
  {
   "cell_type": "code",
   "execution_count": 0,
   "metadata": {
    "colab_type": "code",
    "outputId": "ba29984a-e70d-4adc-c5c9-4bd1fedb114d",
    "id": "ZLQyxKy4eB1B",
    "colab": {
     "base_uri": "https://localhost:8080/",
     "height": 426.0
    }
   },
   "outputs": [
    {
     "name": "stdout",
     "output_type": "stream",
     "text": [
      "_________________________________________________________________\n",
      "Layer (type)                 Output Shape              Param #   \n",
      "=================================================================\n",
      "conv1d_6 (Conv1D)            (None, 1, 16)             160       \n",
      "_________________________________________________________________\n",
      "conv1d_7 (Conv1D)            (None, 1, 16)             272       \n",
      "_________________________________________________________________\n",
      "max_pooling1d_3 (MaxPooling1 (None, 1, 16)             0         \n",
      "_________________________________________________________________\n",
      "flatten_3 (Flatten)          (None, 16)                0         \n",
      "_________________________________________________________________\n",
      "repeat_vector_3 (RepeatVecto (None, 1, 16)             0         \n",
      "_________________________________________________________________\n",
      "lstm_3 (LSTM)                (None, 1, 20)             2960      \n",
      "_________________________________________________________________\n",
      "time_distributed_5 (TimeDist (None, 1, 100)            2100      \n",
      "_________________________________________________________________\n",
      "time_distributed_6 (TimeDist (None, 1, 1)              101       \n",
      "=================================================================\n",
      "Total params: 5,593\n",
      "Trainable params: 5,593\n",
      "Non-trainable params: 0\n",
      "_________________________________________________________________\n"
     ]
    }
   ],
   "source": [
    "#CNN-LSTM as in [17][18][19]\n",
    "from keras.layers import Flatten\n",
    "from keras.layers import RepeatVector\n",
    "from keras.layers import TimeDistributed\n",
    "from keras.models import Sequential\n",
    "from keras.layers import Dense, Bidirectional,MaxPooling1D,BatchNormalization, Dropout,TimeDistributed, LSTM\n",
    "from keras.layers.convolutional import Conv1D\n",
    "\n",
    "model_cnnlstm = Sequential()\n",
    "model_cnnlstm.add(Conv1D(filters=16, kernel_size=1, activation='relu', input_shape=(train_X.shape[1], train_X.shape[2])))\n",
    "model_cnnlstm.add(Conv1D(filters=16, kernel_size=1, activation='relu'))\n",
    "model_cnnlstm.add(MaxPooling1D(pool_size=1))\n",
    "model_cnnlstm.add(Flatten())\n",
    "\n",
    "model_cnnlstm.add(RepeatVector(train_X.shape[1]))\n",
    "model_cnnlstm.add(LSTM(20, activation='relu', return_sequences=True))\n",
    "model_cnnlstm.add(TimeDistributed(Dense(100, activation='relu')))\n",
    "model_cnnlstm.add(TimeDistributed(Dense(1)))\n",
    "model_cnnlstm.summary()\n",
    "\n"
   ]
  },
  {
   "cell_type": "code",
   "execution_count": 0,
   "metadata": {
    "id": "sNKgZjidgExc",
    "colab_type": "code",
    "colab": {}
   },
   "outputs": [],
   "source": [
    "predictedY_CNN=model_cnnlstm.predict(test_X.reshape(test_X.shape[0],1,test_X.shape[2]))"
   ]
  },
  {
   "cell_type": "code",
   "execution_count": 0,
   "metadata": {
    "id": "w7M5OACFgYwD",
    "colab_type": "code",
    "outputId": "f40f7840-1d31-4c24-d908-51922d222f0a",
    "colab": {
     "base_uri": "https://localhost:8080/",
     "height": 35.0
    }
   },
   "outputs": [
    {
     "name": "stdout",
     "output_type": "stream",
     "text": [
      "['MAE: ', 0.00040307842, 'R2 Score:', 0.9821853633456069]\n"
     ]
    }
   ],
   "source": [
    "from sklearn.metrics import mean_absolute_error as mae\n",
    "from sklearn.metrics import r2_score as rscore\n",
    "\n",
    "predictedY_CNN=predictedY_CNN.reshape(predictedY_CNN.shape[0],predictedY_CNN.shape[1])\n",
    "mae_rbf=mae(predictedY_CNN,test_y)\n",
    "r2_rbf=abs(rscore(test_y,predictedY_CNN))\n",
    "print(['MAE: ',mae_rbf, 'R2 Score:',r2_rbf])"
   ]
  },
  {
   "cell_type": "code",
   "execution_count": 0,
   "metadata": {
    "id": "0suOMqOVqhQh",
    "colab_type": "code",
    "outputId": "73cfdb54-04d8-4fd7-8f37-22a04c37b25e",
    "colab": {
     "base_uri": "https://localhost:8080/",
     "height": 1000.0
    }
   },
   "outputs": [
    {
     "name": "stderr",
     "output_type": "stream",
     "text": [
      "W0812 10:49:28.899564 140428172154752 deprecation.py:323] From /usr/local/lib/python3.6/dist-packages/tensorflow/python/ops/math_grad.py:1250: add_dispatch_support.<locals>.wrapper (from tensorflow.python.ops.array_ops) is deprecated and will be removed in a future version.\n",
      "Instructions for updating:\n",
      "Use tf.where in 2.0, which has the same broadcast rule as np.where\n",
      "W0812 10:49:29.562520 140428172154752 deprecation_wrapper.py:119] From /usr/local/lib/python3.6/dist-packages/keras/backend/tensorflow_backend.py:986: The name tf.assign_add is deprecated. Please use tf.compat.v1.assign_add instead.\n",
      "\n",
      "W0812 10:49:29.708294 140428172154752 deprecation_wrapper.py:119] From /usr/local/lib/python3.6/dist-packages/keras/backend/tensorflow_backend.py:973: The name tf.assign is deprecated. Please use tf.compat.v1.assign instead.\n",
      "\n"
     ]
    },
    {
     "name": "stdout",
     "output_type": "stream",
     "text": [
      "Epoch 1/50\n",
      "325234/325234 [==============================] - 24s 75us/step - loss: 0.0014\n",
      "Epoch 2/50\n",
      "325234/325234 [==============================] - 18s 56us/step - loss: 6.9871e-04\n",
      "Epoch 3/50\n",
      "325234/325234 [==============================] - 18s 55us/step - loss: 5.9307e-04\n",
      "Epoch 4/50\n",
      "325234/325234 [==============================] - 18s 55us/step - loss: 5.8285e-04\n",
      "Epoch 5/50\n",
      "325234/325234 [==============================] - 18s 54us/step - loss: 5.1634e-04\n",
      "Epoch 6/50\n",
      "325234/325234 [==============================] - 18s 55us/step - loss: 4.8515e-04\n",
      "Epoch 7/50\n",
      "325234/325234 [==============================] - 18s 54us/step - loss: 4.4427e-04\n",
      "Epoch 8/50\n",
      "325234/325234 [==============================] - 18s 54us/step - loss: 4.2613e-04\n",
      "Epoch 9/50\n",
      "325234/325234 [==============================] - 17s 54us/step - loss: 3.8836e-04\n",
      "Epoch 10/50\n",
      "325234/325234 [==============================] - 18s 54us/step - loss: 4.0196e-04\n",
      "Epoch 11/50\n",
      "325234/325234 [==============================] - 18s 55us/step - loss: 3.7714e-04\n",
      "Epoch 12/50\n",
      "325234/325234 [==============================] - 18s 55us/step - loss: 3.3546e-04\n",
      "Epoch 13/50\n",
      "325234/325234 [==============================] - 17s 53us/step - loss: 3.4037e-04\n",
      "Epoch 14/50\n",
      "325234/325234 [==============================] - 17s 53us/step - loss: 3.2998e-04\n",
      "Epoch 15/50\n",
      "325234/325234 [==============================] - 18s 54us/step - loss: 3.2366e-04\n",
      "Epoch 16/50\n",
      "325234/325234 [==============================] - 17s 53us/step - loss: 3.0561e-04\n",
      "Epoch 17/50\n",
      "325234/325234 [==============================] - 17s 53us/step - loss: 3.1042e-04\n",
      "Epoch 18/50\n",
      "325234/325234 [==============================] - 17s 54us/step - loss: 2.9239e-04\n",
      "Epoch 19/50\n",
      "325234/325234 [==============================] - 18s 54us/step - loss: 2.8812e-04\n",
      "Epoch 20/50\n",
      "325234/325234 [==============================] - 18s 54us/step - loss: 2.8833e-04\n",
      "Epoch 21/50\n",
      "325234/325234 [==============================] - 17s 53us/step - loss: 2.8523e-04\n",
      "Epoch 22/50\n",
      "325234/325234 [==============================] - 17s 53us/step - loss: 2.8880e-04\n",
      "Epoch 23/50\n",
      "325234/325234 [==============================] - 17s 53us/step - loss: 2.6366e-04\n",
      "Epoch 24/50\n",
      "325234/325234 [==============================] - 17s 53us/step - loss: 2.6662e-04\n",
      "Epoch 25/50\n",
      "325234/325234 [==============================] - 17s 53us/step - loss: 2.7340e-04\n",
      "Epoch 26/50\n",
      "325234/325234 [==============================] - 17s 53us/step - loss: 2.4904e-04\n",
      "Epoch 27/50\n",
      "325234/325234 [==============================] - 17s 53us/step - loss: 2.8015e-04\n",
      "Epoch 28/50\n",
      "325234/325234 [==============================] - 17s 53us/step - loss: 2.5243e-04\n",
      "Epoch 29/50\n",
      "325234/325234 [==============================] - 18s 55us/step - loss: 2.7518e-04\n",
      "Epoch 30/50\n",
      "325234/325234 [==============================] - 18s 54us/step - loss: 2.6957e-04\n",
      "Epoch 31/50\n",
      "325234/325234 [==============================] - 17s 53us/step - loss: 2.4283e-04\n",
      "Epoch 32/50\n",
      "325234/325234 [==============================] - 17s 54us/step - loss: 2.4513e-04\n",
      "Epoch 33/50\n",
      "325234/325234 [==============================] - 17s 53us/step - loss: 2.4891e-04\n",
      "Epoch 34/50\n",
      "325234/325234 [==============================] - 17s 53us/step - loss: 2.4669e-04\n",
      "Epoch 35/50\n",
      "325234/325234 [==============================] - 17s 53us/step - loss: 2.6070e-04\n",
      "Epoch 36/50\n",
      "325234/325234 [==============================] - 17s 53us/step - loss: 2.5162e-04\n",
      "Epoch 37/50\n",
      "325234/325234 [==============================] - 17s 52us/step - loss: 2.3757e-04\n",
      "Epoch 38/50\n",
      "325234/325234 [==============================] - 17s 53us/step - loss: 2.3623e-04\n",
      "Epoch 39/50\n",
      "325234/325234 [==============================] - 17s 53us/step - loss: 2.3536e-04\n",
      "Epoch 40/50\n",
      "325234/325234 [==============================] - 17s 54us/step - loss: 2.3764e-04\n",
      "Epoch 41/50\n",
      "325234/325234 [==============================] - 17s 53us/step - loss: 2.4328e-04\n",
      "Epoch 42/50\n",
      "325234/325234 [==============================] - 17s 53us/step - loss: 2.3701e-04\n",
      "Epoch 43/50\n",
      "325234/325234 [==============================] - 17s 54us/step - loss: 2.3464e-04\n",
      "Epoch 44/50\n",
      "325234/325234 [==============================] - 17s 53us/step - loss: 2.4508e-04\n",
      "Epoch 45/50\n",
      "325234/325234 [==============================] - 17s 53us/step - loss: 2.2785e-04\n",
      "Epoch 46/50\n",
      "325234/325234 [==============================] - 18s 54us/step - loss: 2.2237e-04\n",
      "Epoch 47/50\n",
      "325234/325234 [==============================] - 18s 55us/step - loss: 2.3706e-04\n",
      "Epoch 48/50\n",
      "325234/325234 [==============================] - 17s 54us/step - loss: 2.2903e-04\n",
      "Epoch 49/50\n",
      "325234/325234 [==============================] - 17s 53us/step - loss: 2.3354e-04\n",
      "Epoch 50/50\n",
      "325234/325234 [==============================] - 17s 53us/step - loss: 2.3133e-04\n"
     ]
    }
   ],
   "source": [
    "model_cnnlstm.compile(loss='mae', optimizer='adam')\n",
    "# fit network\n",
    "train_y1=train_y.reshape(train_y.shape[0],1, 1)\n",
    "\n",
    "history_cnnlstm = model_cnnlstm.fit(train_X.reshape(train_X.shape[0],1,train_X.shape[2]), train_y1, epochs=50, batch_size=128, verbose=1, shuffle=False)"
   ]
  }
 ],
 "metadata": {
  "colab": {
   "name": "Youtube_jupyter.ipynb",
   "version": "0.3.2",
   "provenance": [],
   "collapsed_sections": []
  },
  "kernelspec": {
   "name": "python3",
   "display_name": "Python 3"
  },
  "accelerator": "GPU"
 },
 "nbformat": 4,
 "nbformat_minor": 0
}
